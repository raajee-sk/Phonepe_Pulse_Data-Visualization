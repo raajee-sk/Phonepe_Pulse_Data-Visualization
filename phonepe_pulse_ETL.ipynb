{
 "cells": [
  {
   "cell_type": "code",
   "execution_count": null,
   "id": "efc9b07b",
   "metadata": {},
   "outputs": [],
   "source": [
    "from git import Repo\n",
    "import pandas as pd\n",
    "import numpy as np\n",
    "import os\n",
    "import json\n",
    "import pymysql"
   ]
  },
  {
   "cell_type": "code",
   "execution_count": null,
   "id": "a4fddab3",
   "metadata": {},
   "outputs": [],
   "source": [
    "# #Specify the GitHub repository URL and local directory path\n",
    "github_url = \"https://github.com/PhonePe/pulse.git\"\n",
    "local_dir = \"C:/Phonepe_Pulse_Data\"\n",
    "\n",
    "# # Clone the repository to the specified local directory\n",
    "Repo.clone_from(github_url, local_dir)\n"
   ]
  },
  {
   "cell_type": "markdown",
   "id": "5b1f1a0a",
   "metadata": {},
   "source": [
    "# Data Processing"
   ]
  },
  {
   "cell_type": "code",
   "execution_count": null,
   "id": "fdde83eb",
   "metadata": {},
   "outputs": [],
   "source": [
    "#------DATA-------AGGREGATED-------TRANSACTION---------#"
   ]
  },
  {
   "cell_type": "code",
   "execution_count": null,
   "id": "f6e62769",
   "metadata": {},
   "outputs": [],
   "source": [
    "path_1=\"C:/Phonepe_Pulse_Data/data/aggregated/transaction/country/india/state\"\n",
    "agg_trans_state_list= os.listdir(path_1)"
   ]
  },
  {
   "cell_type": "code",
   "execution_count": null,
   "id": "50908577",
   "metadata": {},
   "outputs": [],
   "source": [
    "Agg_trans = {'State': [], 'Year': [], 'Quarter': [], 'Transaction_type': [], 'Transaction_count': [], 'Transaction_amount': []}"
   ]
  },
  {
   "cell_type": "code",
   "execution_count": 5,
   "id": "9bced94c",
   "metadata": {},
   "outputs": [],
   "source": [
    "for i in agg_trans_state_list:\n",
    "    p_i = path_1 +\"/\"+ i + \"/\"\n",
    "    agg_yr = os.listdir(p_i)\n",
    "    for j in agg_yr:\n",
    "        p_j = p_i + j + \"/\"\n",
    "        agg_yr_list = os.listdir(p_j)\n",
    "        for k in agg_yr_list:\n",
    "            p_k = p_j + k\n",
    "            data = open(p_k, 'r')\n",
    "            A = json.load(data)\n",
    "            \n",
    "            for l in A['data']['transactionData']:\n",
    "                Name=l['name']\n",
    "                count=l['paymentInstruments'][0]['count']\n",
    "                amount=l['paymentInstruments'][0]['amount']\n",
    "                Agg_trans['State'].append(i)\n",
    "                Agg_trans['Year'].append(j)\n",
    "                Agg_trans['Quarter'].append(int(k.strip('.json')))\n",
    "                Agg_trans['Transaction_type'].append(Name)\n",
    "                Agg_trans['Transaction_count'].append(count)\n",
    "                Agg_trans['Transaction_amount'].append(amount)\n",
    "        \n",
    "    \n",
    "df_Agg_trans=pd.DataFrame(Agg_trans)"
   ]
  },
  {
   "cell_type": "code",
   "execution_count": 6,
   "id": "55c5f222",
   "metadata": {},
   "outputs": [
    {
     "data": {
      "text/html": [
       "<div>\n",
       "<style scoped>\n",
       "    .dataframe tbody tr th:only-of-type {\n",
       "        vertical-align: middle;\n",
       "    }\n",
       "\n",
       "    .dataframe tbody tr th {\n",
       "        vertical-align: top;\n",
       "    }\n",
       "\n",
       "    .dataframe thead th {\n",
       "        text-align: right;\n",
       "    }\n",
       "</style>\n",
       "<table border=\"1\" class=\"dataframe\">\n",
       "  <thead>\n",
       "    <tr style=\"text-align: right;\">\n",
       "      <th></th>\n",
       "      <th>State</th>\n",
       "      <th>Year</th>\n",
       "      <th>Quarter</th>\n",
       "      <th>Transaction_type</th>\n",
       "      <th>Transaction_count</th>\n",
       "      <th>Transaction_amount</th>\n",
       "    </tr>\n",
       "  </thead>\n",
       "  <tbody>\n",
       "    <tr>\n",
       "      <th>0</th>\n",
       "      <td>andaman-&amp;-nicobar-islands</td>\n",
       "      <td>2018</td>\n",
       "      <td>1</td>\n",
       "      <td>Recharge &amp; bill payments</td>\n",
       "      <td>4200</td>\n",
       "      <td>1.845307e+06</td>\n",
       "    </tr>\n",
       "    <tr>\n",
       "      <th>1</th>\n",
       "      <td>andaman-&amp;-nicobar-islands</td>\n",
       "      <td>2018</td>\n",
       "      <td>1</td>\n",
       "      <td>Peer-to-peer payments</td>\n",
       "      <td>1871</td>\n",
       "      <td>1.213866e+07</td>\n",
       "    </tr>\n",
       "    <tr>\n",
       "      <th>2</th>\n",
       "      <td>andaman-&amp;-nicobar-islands</td>\n",
       "      <td>2018</td>\n",
       "      <td>1</td>\n",
       "      <td>Merchant payments</td>\n",
       "      <td>298</td>\n",
       "      <td>4.525072e+05</td>\n",
       "    </tr>\n",
       "    <tr>\n",
       "      <th>3</th>\n",
       "      <td>andaman-&amp;-nicobar-islands</td>\n",
       "      <td>2018</td>\n",
       "      <td>1</td>\n",
       "      <td>Financial Services</td>\n",
       "      <td>33</td>\n",
       "      <td>1.060142e+04</td>\n",
       "    </tr>\n",
       "    <tr>\n",
       "      <th>4</th>\n",
       "      <td>andaman-&amp;-nicobar-islands</td>\n",
       "      <td>2018</td>\n",
       "      <td>1</td>\n",
       "      <td>Others</td>\n",
       "      <td>256</td>\n",
       "      <td>1.846899e+05</td>\n",
       "    </tr>\n",
       "    <tr>\n",
       "      <th>...</th>\n",
       "      <td>...</td>\n",
       "      <td>...</td>\n",
       "      <td>...</td>\n",
       "      <td>...</td>\n",
       "      <td>...</td>\n",
       "      <td>...</td>\n",
       "    </tr>\n",
       "    <tr>\n",
       "      <th>7903</th>\n",
       "      <td>west-bengal</td>\n",
       "      <td>2023</td>\n",
       "      <td>2</td>\n",
       "      <td>Merchant payments</td>\n",
       "      <td>245111000</td>\n",
       "      <td>1.767046e+11</td>\n",
       "    </tr>\n",
       "    <tr>\n",
       "      <th>7904</th>\n",
       "      <td>west-bengal</td>\n",
       "      <td>2023</td>\n",
       "      <td>2</td>\n",
       "      <td>Peer-to-peer payments</td>\n",
       "      <td>240347041</td>\n",
       "      <td>7.970548e+11</td>\n",
       "    </tr>\n",
       "    <tr>\n",
       "      <th>7905</th>\n",
       "      <td>west-bengal</td>\n",
       "      <td>2023</td>\n",
       "      <td>2</td>\n",
       "      <td>Recharge &amp; bill payments</td>\n",
       "      <td>58950434</td>\n",
       "      <td>3.478924e+10</td>\n",
       "    </tr>\n",
       "    <tr>\n",
       "      <th>7906</th>\n",
       "      <td>west-bengal</td>\n",
       "      <td>2023</td>\n",
       "      <td>2</td>\n",
       "      <td>Financial Services</td>\n",
       "      <td>327537</td>\n",
       "      <td>3.174670e+08</td>\n",
       "    </tr>\n",
       "    <tr>\n",
       "      <th>7907</th>\n",
       "      <td>west-bengal</td>\n",
       "      <td>2023</td>\n",
       "      <td>2</td>\n",
       "      <td>Others</td>\n",
       "      <td>581674</td>\n",
       "      <td>4.489893e+08</td>\n",
       "    </tr>\n",
       "  </tbody>\n",
       "</table>\n",
       "<p>7908 rows × 6 columns</p>\n",
       "</div>"
      ],
      "text/plain": [
       "                          State  Year  Quarter          Transaction_type  \\\n",
       "0     andaman-&-nicobar-islands  2018        1  Recharge & bill payments   \n",
       "1     andaman-&-nicobar-islands  2018        1     Peer-to-peer payments   \n",
       "2     andaman-&-nicobar-islands  2018        1         Merchant payments   \n",
       "3     andaman-&-nicobar-islands  2018        1        Financial Services   \n",
       "4     andaman-&-nicobar-islands  2018        1                    Others   \n",
       "...                         ...   ...      ...                       ...   \n",
       "7903                west-bengal  2023        2         Merchant payments   \n",
       "7904                west-bengal  2023        2     Peer-to-peer payments   \n",
       "7905                west-bengal  2023        2  Recharge & bill payments   \n",
       "7906                west-bengal  2023        2        Financial Services   \n",
       "7907                west-bengal  2023        2                    Others   \n",
       "\n",
       "      Transaction_count  Transaction_amount  \n",
       "0                  4200        1.845307e+06  \n",
       "1                  1871        1.213866e+07  \n",
       "2                   298        4.525072e+05  \n",
       "3                    33        1.060142e+04  \n",
       "4                   256        1.846899e+05  \n",
       "...                 ...                 ...  \n",
       "7903          245111000        1.767046e+11  \n",
       "7904          240347041        7.970548e+11  \n",
       "7905           58950434        3.478924e+10  \n",
       "7906             327537        3.174670e+08  \n",
       "7907             581674        4.489893e+08  \n",
       "\n",
       "[7908 rows x 6 columns]"
      ]
     },
     "execution_count": 6,
     "metadata": {},
     "output_type": "execute_result"
    }
   ],
   "source": [
    "df_Agg_trans"
   ]
  },
  {
   "cell_type": "code",
   "execution_count": 7,
   "id": "87ada594",
   "metadata": {},
   "outputs": [
    {
     "data": {
      "text/plain": [
       "(7908, 6)"
      ]
     },
     "execution_count": 7,
     "metadata": {},
     "output_type": "execute_result"
    }
   ],
   "source": [
    "df_Agg_trans.shape"
   ]
  },
  {
   "cell_type": "code",
   "execution_count": 8,
   "id": "ca44fa9b",
   "metadata": {},
   "outputs": [
    {
     "data": {
      "text/plain": [
       "State                  object\n",
       "Year                   object\n",
       "Quarter                 int64\n",
       "Transaction_type       object\n",
       "Transaction_count       int64\n",
       "Transaction_amount    float64\n",
       "dtype: object"
      ]
     },
     "execution_count": 8,
     "metadata": {},
     "output_type": "execute_result"
    }
   ],
   "source": [
    "df_Agg_trans.dtypes"
   ]
  },
  {
   "cell_type": "code",
   "execution_count": 9,
   "id": "64217dec",
   "metadata": {},
   "outputs": [],
   "source": [
    "data=df_Agg_trans.duplicated()"
   ]
  },
  {
   "cell_type": "code",
   "execution_count": 10,
   "id": "1123176d",
   "metadata": {},
   "outputs": [
    {
     "data": {
      "text/plain": [
       "3954"
      ]
     },
     "execution_count": 10,
     "metadata": {},
     "output_type": "execute_result"
    }
   ],
   "source": [
    "sum(data)"
   ]
  },
  {
   "cell_type": "code",
   "execution_count": 11,
   "id": "452f7c2a",
   "metadata": {},
   "outputs": [
    {
     "data": {
      "text/plain": [
       "State                 0\n",
       "Year                  0\n",
       "Quarter               0\n",
       "Transaction_type      0\n",
       "Transaction_count     0\n",
       "Transaction_amount    0\n",
       "dtype: int64"
      ]
     },
     "execution_count": 11,
     "metadata": {},
     "output_type": "execute_result"
    }
   ],
   "source": [
    "df_Agg_trans.isnull().sum()"
   ]
  },
  {
   "cell_type": "code",
   "execution_count": 12,
   "id": "554e0af1",
   "metadata": {},
   "outputs": [
    {
     "name": "stdout",
     "output_type": "stream",
     "text": [
      "<class 'pandas.core.frame.DataFrame'>\n",
      "RangeIndex: 7908 entries, 0 to 7907\n",
      "Data columns (total 6 columns):\n",
      " #   Column              Non-Null Count  Dtype  \n",
      "---  ------              --------------  -----  \n",
      " 0   State               7908 non-null   object \n",
      " 1   Year                7908 non-null   object \n",
      " 2   Quarter             7908 non-null   int64  \n",
      " 3   Transaction_type    7908 non-null   object \n",
      " 4   Transaction_count   7908 non-null   int64  \n",
      " 5   Transaction_amount  7908 non-null   float64\n",
      "dtypes: float64(1), int64(2), object(3)\n",
      "memory usage: 370.8+ KB\n"
     ]
    }
   ],
   "source": [
    "df_Agg_trans.info()"
   ]
  },
  {
   "cell_type": "code",
   "execution_count": 13,
   "id": "33195123",
   "metadata": {},
   "outputs": [
    {
     "data": {
      "text/plain": [
       "State                   36\n",
       "Year                     6\n",
       "Quarter                  4\n",
       "Transaction_type         5\n",
       "Transaction_count     3902\n",
       "Transaction_amount    3954\n",
       "dtype: int64"
      ]
     },
     "execution_count": 13,
     "metadata": {},
     "output_type": "execute_result"
    }
   ],
   "source": [
    "df_Agg_trans.nunique()"
   ]
  },
  {
   "cell_type": "code",
   "execution_count": 14,
   "id": "7a344b03",
   "metadata": {},
   "outputs": [],
   "source": [
    "#------DATA-------AGGREGATED-------USER--------------#"
   ]
  },
  {
   "cell_type": "code",
   "execution_count": 15,
   "id": "afc4093a",
   "metadata": {},
   "outputs": [],
   "source": [
    "path_2=\"C:/Phonepe_Pulse_Data/data/aggregated/user/country/india/state\"\n",
    "agg_user_state_list= os.listdir(path_2)"
   ]
  },
  {
   "cell_type": "code",
   "execution_count": 16,
   "id": "7a5e1ce4",
   "metadata": {},
   "outputs": [],
   "source": [
    "Agg_user = {'State': [], 'Year': [], 'Quarter': [], 'Brands': [], 'User_Count': [], 'User_Percentage': []}"
   ]
  },
  {
   "cell_type": "code",
   "execution_count": 17,
   "id": "e556df99",
   "metadata": {},
   "outputs": [],
   "source": [
    "for i in agg_user_state_list:\n",
    "    p_i = path_2 +\"/\"+ i + \"/\"\n",
    "    Agg_yr = os.listdir(p_i)\n",
    "\n",
    "    for j in Agg_yr:\n",
    "        p_j = p_i + j + \"/\"\n",
    "        Agg_yr_list = os.listdir(p_j)\n",
    "\n",
    "        for k in Agg_yr_list:\n",
    "            p_k = p_j + k\n",
    "            data = open(p_k, 'r')\n",
    "            B = json.load(data) \n",
    "                        \n",
    "            try:\n",
    "                for l in B[\"data\"][\"usersByDevice\"]:\n",
    "                    brand_name = l[\"brand\"]\n",
    "                    count_ = l[\"count\"]\n",
    "                    ALL_percentage = l[\"percentage\"]\n",
    "                    Agg_user[\"State\"].append(i)\n",
    "                    Agg_user[\"Year\"].append(j)\n",
    "                    Agg_user[\"Quarter\"].append(int(k.strip('.json')))\n",
    "                    Agg_user[\"Brands\"].append(brand_name)\n",
    "                    Agg_user[\"User_Count\"].append(count_)\n",
    "                    Agg_user[\"User_Percentage\"].append(ALL_percentage*100)\n",
    "            except:\n",
    "                pass\n"
   ]
  },
  {
   "cell_type": "code",
   "execution_count": 18,
   "id": "084bfb86",
   "metadata": {},
   "outputs": [],
   "source": [
    "df_Agg_user=pd.DataFrame(Agg_user)"
   ]
  },
  {
   "cell_type": "code",
   "execution_count": 19,
   "id": "562ac403",
   "metadata": {},
   "outputs": [
    {
     "data": {
      "text/html": [
       "<div>\n",
       "<style scoped>\n",
       "    .dataframe tbody tr th:only-of-type {\n",
       "        vertical-align: middle;\n",
       "    }\n",
       "\n",
       "    .dataframe tbody tr th {\n",
       "        vertical-align: top;\n",
       "    }\n",
       "\n",
       "    .dataframe thead th {\n",
       "        text-align: right;\n",
       "    }\n",
       "</style>\n",
       "<table border=\"1\" class=\"dataframe\">\n",
       "  <thead>\n",
       "    <tr style=\"text-align: right;\">\n",
       "      <th></th>\n",
       "      <th>State</th>\n",
       "      <th>Year</th>\n",
       "      <th>Quarter</th>\n",
       "      <th>Brands</th>\n",
       "      <th>User_Count</th>\n",
       "      <th>User_Percentage</th>\n",
       "    </tr>\n",
       "  </thead>\n",
       "  <tbody>\n",
       "    <tr>\n",
       "      <th>0</th>\n",
       "      <td>andaman-&amp;-nicobar-islands</td>\n",
       "      <td>2018</td>\n",
       "      <td>1</td>\n",
       "      <td>Xiaomi</td>\n",
       "      <td>1665</td>\n",
       "      <td>24.703264</td>\n",
       "    </tr>\n",
       "    <tr>\n",
       "      <th>1</th>\n",
       "      <td>andaman-&amp;-nicobar-islands</td>\n",
       "      <td>2018</td>\n",
       "      <td>1</td>\n",
       "      <td>Samsung</td>\n",
       "      <td>1445</td>\n",
       "      <td>21.439169</td>\n",
       "    </tr>\n",
       "    <tr>\n",
       "      <th>2</th>\n",
       "      <td>andaman-&amp;-nicobar-islands</td>\n",
       "      <td>2018</td>\n",
       "      <td>1</td>\n",
       "      <td>Vivo</td>\n",
       "      <td>982</td>\n",
       "      <td>14.569733</td>\n",
       "    </tr>\n",
       "    <tr>\n",
       "      <th>3</th>\n",
       "      <td>andaman-&amp;-nicobar-islands</td>\n",
       "      <td>2018</td>\n",
       "      <td>1</td>\n",
       "      <td>Oppo</td>\n",
       "      <td>501</td>\n",
       "      <td>7.433234</td>\n",
       "    </tr>\n",
       "    <tr>\n",
       "      <th>4</th>\n",
       "      <td>andaman-&amp;-nicobar-islands</td>\n",
       "      <td>2018</td>\n",
       "      <td>1</td>\n",
       "      <td>OnePlus</td>\n",
       "      <td>332</td>\n",
       "      <td>4.925816</td>\n",
       "    </tr>\n",
       "    <tr>\n",
       "      <th>...</th>\n",
       "      <td>...</td>\n",
       "      <td>...</td>\n",
       "      <td>...</td>\n",
       "      <td>...</td>\n",
       "      <td>...</td>\n",
       "      <td>...</td>\n",
       "    </tr>\n",
       "    <tr>\n",
       "      <th>6727</th>\n",
       "      <td>west-bengal</td>\n",
       "      <td>2022</td>\n",
       "      <td>1</td>\n",
       "      <td>Lenovo</td>\n",
       "      <td>330017</td>\n",
       "      <td>1.505567</td>\n",
       "    </tr>\n",
       "    <tr>\n",
       "      <th>6728</th>\n",
       "      <td>west-bengal</td>\n",
       "      <td>2022</td>\n",
       "      <td>1</td>\n",
       "      <td>Infinix</td>\n",
       "      <td>284678</td>\n",
       "      <td>1.298726</td>\n",
       "    </tr>\n",
       "    <tr>\n",
       "      <th>6729</th>\n",
       "      <td>west-bengal</td>\n",
       "      <td>2022</td>\n",
       "      <td>1</td>\n",
       "      <td>Asus</td>\n",
       "      <td>280347</td>\n",
       "      <td>1.278968</td>\n",
       "    </tr>\n",
       "    <tr>\n",
       "      <th>6730</th>\n",
       "      <td>west-bengal</td>\n",
       "      <td>2022</td>\n",
       "      <td>1</td>\n",
       "      <td>Apple</td>\n",
       "      <td>277752</td>\n",
       "      <td>1.267129</td>\n",
       "    </tr>\n",
       "    <tr>\n",
       "      <th>6731</th>\n",
       "      <td>west-bengal</td>\n",
       "      <td>2022</td>\n",
       "      <td>1</td>\n",
       "      <td>Others</td>\n",
       "      <td>2196334</td>\n",
       "      <td>10.019869</td>\n",
       "    </tr>\n",
       "  </tbody>\n",
       "</table>\n",
       "<p>6732 rows × 6 columns</p>\n",
       "</div>"
      ],
      "text/plain": [
       "                          State  Year  Quarter   Brands  User_Count  \\\n",
       "0     andaman-&-nicobar-islands  2018        1   Xiaomi        1665   \n",
       "1     andaman-&-nicobar-islands  2018        1  Samsung        1445   \n",
       "2     andaman-&-nicobar-islands  2018        1     Vivo         982   \n",
       "3     andaman-&-nicobar-islands  2018        1     Oppo         501   \n",
       "4     andaman-&-nicobar-islands  2018        1  OnePlus         332   \n",
       "...                         ...   ...      ...      ...         ...   \n",
       "6727                west-bengal  2022        1   Lenovo      330017   \n",
       "6728                west-bengal  2022        1  Infinix      284678   \n",
       "6729                west-bengal  2022        1     Asus      280347   \n",
       "6730                west-bengal  2022        1    Apple      277752   \n",
       "6731                west-bengal  2022        1   Others     2196334   \n",
       "\n",
       "      User_Percentage  \n",
       "0           24.703264  \n",
       "1           21.439169  \n",
       "2           14.569733  \n",
       "3            7.433234  \n",
       "4            4.925816  \n",
       "...               ...  \n",
       "6727         1.505567  \n",
       "6728         1.298726  \n",
       "6729         1.278968  \n",
       "6730         1.267129  \n",
       "6731        10.019869  \n",
       "\n",
       "[6732 rows x 6 columns]"
      ]
     },
     "execution_count": 19,
     "metadata": {},
     "output_type": "execute_result"
    }
   ],
   "source": [
    "df_Agg_user"
   ]
  },
  {
   "cell_type": "code",
   "execution_count": 20,
   "id": "7ff119c3",
   "metadata": {},
   "outputs": [
    {
     "data": {
      "text/plain": [
       "(6732, 6)"
      ]
     },
     "execution_count": 20,
     "metadata": {},
     "output_type": "execute_result"
    }
   ],
   "source": [
    "df_Agg_user.shape"
   ]
  },
  {
   "cell_type": "code",
   "execution_count": 21,
   "id": "1ad86724",
   "metadata": {},
   "outputs": [
    {
     "data": {
      "text/plain": [
       "State               object\n",
       "Year                object\n",
       "Quarter              int64\n",
       "Brands              object\n",
       "User_Count           int64\n",
       "User_Percentage    float64\n",
       "dtype: object"
      ]
     },
     "execution_count": 21,
     "metadata": {},
     "output_type": "execute_result"
    }
   ],
   "source": [
    "df_Agg_user.dtypes"
   ]
  },
  {
   "cell_type": "code",
   "execution_count": 22,
   "id": "26faf3ab",
   "metadata": {},
   "outputs": [
    {
     "data": {
      "text/plain": [
       "0"
      ]
     },
     "execution_count": 22,
     "metadata": {},
     "output_type": "execute_result"
    }
   ],
   "source": [
    "data=df_Agg_user.duplicated()\n",
    "sum(data)"
   ]
  },
  {
   "cell_type": "code",
   "execution_count": 23,
   "id": "16da5e65",
   "metadata": {},
   "outputs": [
    {
     "data": {
      "text/plain": [
       "State              0\n",
       "Year               0\n",
       "Quarter            0\n",
       "Brands             0\n",
       "User_Count         0\n",
       "User_Percentage    0\n",
       "dtype: int64"
      ]
     },
     "execution_count": 23,
     "metadata": {},
     "output_type": "execute_result"
    }
   ],
   "source": [
    "df_Agg_user.isnull().sum()"
   ]
  },
  {
   "cell_type": "code",
   "execution_count": 24,
   "id": "dc59d2ac",
   "metadata": {},
   "outputs": [
    {
     "name": "stdout",
     "output_type": "stream",
     "text": [
      "<class 'pandas.core.frame.DataFrame'>\n",
      "RangeIndex: 6732 entries, 0 to 6731\n",
      "Data columns (total 6 columns):\n",
      " #   Column           Non-Null Count  Dtype  \n",
      "---  ------           --------------  -----  \n",
      " 0   State            6732 non-null   object \n",
      " 1   Year             6732 non-null   object \n",
      " 2   Quarter          6732 non-null   int64  \n",
      " 3   Brands           6732 non-null   object \n",
      " 4   User_Count       6732 non-null   int64  \n",
      " 5   User_Percentage  6732 non-null   float64\n",
      "dtypes: float64(1), int64(2), object(3)\n",
      "memory usage: 315.7+ KB\n"
     ]
    }
   ],
   "source": [
    "df_Agg_user.info()"
   ]
  },
  {
   "cell_type": "code",
   "execution_count": 25,
   "id": "16c3e7e0",
   "metadata": {},
   "outputs": [
    {
     "data": {
      "text/plain": [
       "State                36\n",
       "Year                  5\n",
       "Quarter               4\n",
       "Brands               20\n",
       "User_Count         6501\n",
       "User_Percentage    6726\n",
       "dtype: int64"
      ]
     },
     "execution_count": 25,
     "metadata": {},
     "output_type": "execute_result"
    }
   ],
   "source": [
    "df_Agg_user.nunique()"
   ]
  },
  {
   "cell_type": "code",
   "execution_count": 26,
   "id": "83a6f7ad",
   "metadata": {},
   "outputs": [],
   "source": [
    "#--------------DATA----MAP-------TRANSACTION-------------#"
   ]
  },
  {
   "cell_type": "code",
   "execution_count": 27,
   "id": "d0d63b7c",
   "metadata": {},
   "outputs": [],
   "source": [
    "path_3=\"C:/Phonepe_Pulse_Data/data/map/transaction/hover/country/india/state\"\n",
    "map_trans_state_list= os.listdir(path_3)"
   ]
  },
  {
   "cell_type": "code",
   "execution_count": 28,
   "id": "e3669cd1",
   "metadata": {},
   "outputs": [],
   "source": [
    "map_trans = {'State': [], 'Year': [], 'Quarter': [], 'District': [], 'Transaction_Count': [], 'Transaction_Amount': []}\n"
   ]
  },
  {
   "cell_type": "code",
   "execution_count": 29,
   "id": "c26cbafb",
   "metadata": {},
   "outputs": [],
   "source": [
    "for i in map_trans_state_list:\n",
    "    p_i = path_3 +'/'+ i + \"/\"\n",
    "    Agg_yr = os.listdir(p_i)\n",
    "\n",
    "    for j in Agg_yr:\n",
    "        p_j = p_i + j + \"/\"\n",
    "        Agg_yr_list = os.listdir(p_j)\n",
    "\n",
    "        for k in Agg_yr_list:\n",
    "            p_k = p_j + k\n",
    "            data = open(p_k, 'r')\n",
    "            C = json.load(data)\n",
    "            for l in C[\"data\"][\"hoverDataList\"]:\n",
    "                District = l[\"name\"]\n",
    "                count = l[\"metric\"][0][\"count\"]\n",
    "                amount = l[\"metric\"][0][\"amount\"]\n",
    "                map_trans['State'].append(i)\n",
    "                map_trans['Year'].append(j)\n",
    "                map_trans['Quarter'].append(int(k.strip('.json')))\n",
    "                map_trans[\"District\"].append(District)\n",
    "                map_trans[\"Transaction_Count\"].append(count)\n",
    "                map_trans[\"Transaction_Amount\"].append(amount)\n",
    "                \n",
    "            \n",
    "            "
   ]
  },
  {
   "cell_type": "code",
   "execution_count": 30,
   "id": "91b81394",
   "metadata": {},
   "outputs": [
    {
     "data": {
      "text/html": [
       "<div>\n",
       "<style scoped>\n",
       "    .dataframe tbody tr th:only-of-type {\n",
       "        vertical-align: middle;\n",
       "    }\n",
       "\n",
       "    .dataframe tbody tr th {\n",
       "        vertical-align: top;\n",
       "    }\n",
       "\n",
       "    .dataframe thead th {\n",
       "        text-align: right;\n",
       "    }\n",
       "</style>\n",
       "<table border=\"1\" class=\"dataframe\">\n",
       "  <thead>\n",
       "    <tr style=\"text-align: right;\">\n",
       "      <th></th>\n",
       "      <th>State</th>\n",
       "      <th>Year</th>\n",
       "      <th>Quarter</th>\n",
       "      <th>District</th>\n",
       "      <th>Transaction_Count</th>\n",
       "      <th>Transaction_Amount</th>\n",
       "    </tr>\n",
       "  </thead>\n",
       "  <tbody>\n",
       "    <tr>\n",
       "      <th>0</th>\n",
       "      <td>andaman-&amp;-nicobar-islands</td>\n",
       "      <td>2018</td>\n",
       "      <td>1</td>\n",
       "      <td>north and middle andaman district</td>\n",
       "      <td>442</td>\n",
       "      <td>9.316631e+05</td>\n",
       "    </tr>\n",
       "    <tr>\n",
       "      <th>1</th>\n",
       "      <td>andaman-&amp;-nicobar-islands</td>\n",
       "      <td>2018</td>\n",
       "      <td>1</td>\n",
       "      <td>south andaman district</td>\n",
       "      <td>5688</td>\n",
       "      <td>1.256025e+07</td>\n",
       "    </tr>\n",
       "    <tr>\n",
       "      <th>2</th>\n",
       "      <td>andaman-&amp;-nicobar-islands</td>\n",
       "      <td>2018</td>\n",
       "      <td>1</td>\n",
       "      <td>nicobars district</td>\n",
       "      <td>528</td>\n",
       "      <td>1.139849e+06</td>\n",
       "    </tr>\n",
       "    <tr>\n",
       "      <th>3</th>\n",
       "      <td>andaman-&amp;-nicobar-islands</td>\n",
       "      <td>2018</td>\n",
       "      <td>2</td>\n",
       "      <td>north and middle andaman district</td>\n",
       "      <td>825</td>\n",
       "      <td>1.317863e+06</td>\n",
       "    </tr>\n",
       "    <tr>\n",
       "      <th>4</th>\n",
       "      <td>andaman-&amp;-nicobar-islands</td>\n",
       "      <td>2018</td>\n",
       "      <td>2</td>\n",
       "      <td>south andaman district</td>\n",
       "      <td>9395</td>\n",
       "      <td>2.394824e+07</td>\n",
       "    </tr>\n",
       "    <tr>\n",
       "      <th>...</th>\n",
       "      <td>...</td>\n",
       "      <td>...</td>\n",
       "      <td>...</td>\n",
       "      <td>...</td>\n",
       "      <td>...</td>\n",
       "      <td>...</td>\n",
       "    </tr>\n",
       "    <tr>\n",
       "      <th>16095</th>\n",
       "      <td>west-bengal</td>\n",
       "      <td>2023</td>\n",
       "      <td>2</td>\n",
       "      <td>nadia district</td>\n",
       "      <td>26194658</td>\n",
       "      <td>5.410386e+10</td>\n",
       "    </tr>\n",
       "    <tr>\n",
       "      <th>16096</th>\n",
       "      <td>west-bengal</td>\n",
       "      <td>2023</td>\n",
       "      <td>2</td>\n",
       "      <td>birbhum district</td>\n",
       "      <td>14912523</td>\n",
       "      <td>2.941312e+10</td>\n",
       "    </tr>\n",
       "    <tr>\n",
       "      <th>16097</th>\n",
       "      <td>west-bengal</td>\n",
       "      <td>2023</td>\n",
       "      <td>2</td>\n",
       "      <td>purba medinipur district</td>\n",
       "      <td>30724502</td>\n",
       "      <td>6.595899e+10</td>\n",
       "    </tr>\n",
       "    <tr>\n",
       "      <th>16098</th>\n",
       "      <td>west-bengal</td>\n",
       "      <td>2023</td>\n",
       "      <td>2</td>\n",
       "      <td>maldah district</td>\n",
       "      <td>24677357</td>\n",
       "      <td>5.218621e+10</td>\n",
       "    </tr>\n",
       "    <tr>\n",
       "      <th>16099</th>\n",
       "      <td>west-bengal</td>\n",
       "      <td>2023</td>\n",
       "      <td>2</td>\n",
       "      <td>darjiling district</td>\n",
       "      <td>13049366</td>\n",
       "      <td>2.372866e+10</td>\n",
       "    </tr>\n",
       "  </tbody>\n",
       "</table>\n",
       "<p>16100 rows × 6 columns</p>\n",
       "</div>"
      ],
      "text/plain": [
       "                           State  Year  Quarter  \\\n",
       "0      andaman-&-nicobar-islands  2018        1   \n",
       "1      andaman-&-nicobar-islands  2018        1   \n",
       "2      andaman-&-nicobar-islands  2018        1   \n",
       "3      andaman-&-nicobar-islands  2018        2   \n",
       "4      andaman-&-nicobar-islands  2018        2   \n",
       "...                          ...   ...      ...   \n",
       "16095                west-bengal  2023        2   \n",
       "16096                west-bengal  2023        2   \n",
       "16097                west-bengal  2023        2   \n",
       "16098                west-bengal  2023        2   \n",
       "16099                west-bengal  2023        2   \n",
       "\n",
       "                                District  Transaction_Count  \\\n",
       "0      north and middle andaman district                442   \n",
       "1                 south andaman district               5688   \n",
       "2                      nicobars district                528   \n",
       "3      north and middle andaman district                825   \n",
       "4                 south andaman district               9395   \n",
       "...                                  ...                ...   \n",
       "16095                     nadia district           26194658   \n",
       "16096                   birbhum district           14912523   \n",
       "16097           purba medinipur district           30724502   \n",
       "16098                    maldah district           24677357   \n",
       "16099                 darjiling district           13049366   \n",
       "\n",
       "       Transaction_Amount  \n",
       "0            9.316631e+05  \n",
       "1            1.256025e+07  \n",
       "2            1.139849e+06  \n",
       "3            1.317863e+06  \n",
       "4            2.394824e+07  \n",
       "...                   ...  \n",
       "16095        5.410386e+10  \n",
       "16096        2.941312e+10  \n",
       "16097        6.595899e+10  \n",
       "16098        5.218621e+10  \n",
       "16099        2.372866e+10  \n",
       "\n",
       "[16100 rows x 6 columns]"
      ]
     },
     "execution_count": 30,
     "metadata": {},
     "output_type": "execute_result"
    }
   ],
   "source": [
    "df_map_trans=pd.DataFrame(map_trans)\n",
    "df_map_trans"
   ]
  },
  {
   "cell_type": "code",
   "execution_count": 31,
   "id": "be9f33d2",
   "metadata": {},
   "outputs": [
    {
     "data": {
      "text/plain": [
       "(16100, 6)"
      ]
     },
     "execution_count": 31,
     "metadata": {},
     "output_type": "execute_result"
    }
   ],
   "source": [
    "df_map_trans.shape"
   ]
  },
  {
   "cell_type": "code",
   "execution_count": 32,
   "id": "25b175dc",
   "metadata": {},
   "outputs": [
    {
     "data": {
      "text/plain": [
       "State                  object\n",
       "Year                   object\n",
       "Quarter                 int64\n",
       "District               object\n",
       "Transaction_Count       int64\n",
       "Transaction_Amount    float64\n",
       "dtype: object"
      ]
     },
     "execution_count": 32,
     "metadata": {},
     "output_type": "execute_result"
    }
   ],
   "source": [
    "df_map_trans.dtypes"
   ]
  },
  {
   "cell_type": "code",
   "execution_count": 33,
   "id": "d6876d82",
   "metadata": {},
   "outputs": [
    {
     "data": {
      "text/plain": [
       "0"
      ]
     },
     "execution_count": 33,
     "metadata": {},
     "output_type": "execute_result"
    }
   ],
   "source": [
    "data=df_map_trans.duplicated()\n",
    "sum(data)"
   ]
  },
  {
   "cell_type": "code",
   "execution_count": 34,
   "id": "f5463139",
   "metadata": {},
   "outputs": [
    {
     "data": {
      "text/plain": [
       "State                 0\n",
       "Year                  0\n",
       "Quarter               0\n",
       "District              0\n",
       "Transaction_Count     0\n",
       "Transaction_Amount    0\n",
       "dtype: int64"
      ]
     },
     "execution_count": 34,
     "metadata": {},
     "output_type": "execute_result"
    }
   ],
   "source": [
    "df_map_trans.isnull().sum()"
   ]
  },
  {
   "cell_type": "code",
   "execution_count": 35,
   "id": "3978ba9f",
   "metadata": {},
   "outputs": [
    {
     "name": "stdout",
     "output_type": "stream",
     "text": [
      "<class 'pandas.core.frame.DataFrame'>\n",
      "RangeIndex: 16100 entries, 0 to 16099\n",
      "Data columns (total 6 columns):\n",
      " #   Column              Non-Null Count  Dtype  \n",
      "---  ------              --------------  -----  \n",
      " 0   State               16100 non-null  object \n",
      " 1   Year                16100 non-null  object \n",
      " 2   Quarter             16100 non-null  int64  \n",
      " 3   District            16100 non-null  object \n",
      " 4   Transaction_Count   16100 non-null  int64  \n",
      " 5   Transaction_Amount  16100 non-null  float64\n",
      "dtypes: float64(1), int64(2), object(3)\n",
      "memory usage: 754.8+ KB\n"
     ]
    }
   ],
   "source": [
    "df_map_trans.info()"
   ]
  },
  {
   "cell_type": "code",
   "execution_count": 36,
   "id": "3cb6d64e",
   "metadata": {},
   "outputs": [
    {
     "data": {
      "text/plain": [
       "State                    36\n",
       "Year                      6\n",
       "Quarter                   4\n",
       "District                723\n",
       "Transaction_Count     16025\n",
       "Transaction_Amount    16100\n",
       "dtype: int64"
      ]
     },
     "execution_count": 36,
     "metadata": {},
     "output_type": "execute_result"
    }
   ],
   "source": [
    "df_map_trans.nunique()"
   ]
  },
  {
   "cell_type": "code",
   "execution_count": 37,
   "id": "51488768",
   "metadata": {},
   "outputs": [],
   "source": [
    "#--------------DATA----MAP-------USER-------------#"
   ]
  },
  {
   "cell_type": "code",
   "execution_count": 38,
   "id": "bf593e0d",
   "metadata": {},
   "outputs": [],
   "source": [
    "path_4=\"C:/Phonepe_Pulse_Data/data/map/user/hover/country/india/state\""
   ]
  },
  {
   "cell_type": "code",
   "execution_count": 39,
   "id": "62f78aaa",
   "metadata": {},
   "outputs": [],
   "source": [
    "map_user_state_list= os.listdir(path_3)\n"
   ]
  },
  {
   "cell_type": "code",
   "execution_count": 40,
   "id": "7c1ceb5f",
   "metadata": {},
   "outputs": [],
   "source": [
    "map_user = {\"State\": [], \"Year\": [], \"Quarter\": [], \"District\": [], \"Registered_User\": []}\n"
   ]
  },
  {
   "cell_type": "code",
   "execution_count": 41,
   "id": "e1fe9daf",
   "metadata": {},
   "outputs": [],
   "source": [
    "for i in map_user_state_list:\n",
    "    p_i = path_4 +\"/\"+i + \"/\"\n",
    "    Agg_yr = os.listdir(p_i)\n",
    "    for j in Agg_yr:\n",
    "        p_j = p_i + j + \"/\"\n",
    "        Agg_yr_list = os.listdir(p_j)\n",
    "\n",
    "        for k in Agg_yr_list:\n",
    "            p_k = p_j + k\n",
    "            Data = open(p_k, 'r')\n",
    "            D = json.load(Data)\n",
    "\n",
    "            for l in D[\"data\"][\"hoverData\"].items():\n",
    "                district = l[0]\n",
    "                registereduser = l[1][\"registeredUsers\"]\n",
    "                map_user['State'].append(i)\n",
    "                map_user['Year'].append(j)\n",
    "                map_user['Quarter'].append(int(k.strip('.json')))\n",
    "                map_user[\"District\"].append(district)\n",
    "                map_user[\"Registered_User\"].append(registereduser)\n",
    "                \n"
   ]
  },
  {
   "cell_type": "code",
   "execution_count": 42,
   "id": "8e99b323",
   "metadata": {},
   "outputs": [
    {
     "data": {
      "text/html": [
       "<div>\n",
       "<style scoped>\n",
       "    .dataframe tbody tr th:only-of-type {\n",
       "        vertical-align: middle;\n",
       "    }\n",
       "\n",
       "    .dataframe tbody tr th {\n",
       "        vertical-align: top;\n",
       "    }\n",
       "\n",
       "    .dataframe thead th {\n",
       "        text-align: right;\n",
       "    }\n",
       "</style>\n",
       "<table border=\"1\" class=\"dataframe\">\n",
       "  <thead>\n",
       "    <tr style=\"text-align: right;\">\n",
       "      <th></th>\n",
       "      <th>State</th>\n",
       "      <th>Year</th>\n",
       "      <th>Quarter</th>\n",
       "      <th>District</th>\n",
       "      <th>Registered_User</th>\n",
       "    </tr>\n",
       "  </thead>\n",
       "  <tbody>\n",
       "    <tr>\n",
       "      <th>0</th>\n",
       "      <td>andaman-&amp;-nicobar-islands</td>\n",
       "      <td>2018</td>\n",
       "      <td>1</td>\n",
       "      <td>north and middle andaman district</td>\n",
       "      <td>632</td>\n",
       "    </tr>\n",
       "    <tr>\n",
       "      <th>1</th>\n",
       "      <td>andaman-&amp;-nicobar-islands</td>\n",
       "      <td>2018</td>\n",
       "      <td>1</td>\n",
       "      <td>south andaman district</td>\n",
       "      <td>5846</td>\n",
       "    </tr>\n",
       "    <tr>\n",
       "      <th>2</th>\n",
       "      <td>andaman-&amp;-nicobar-islands</td>\n",
       "      <td>2018</td>\n",
       "      <td>1</td>\n",
       "      <td>nicobars district</td>\n",
       "      <td>262</td>\n",
       "    </tr>\n",
       "    <tr>\n",
       "      <th>3</th>\n",
       "      <td>andaman-&amp;-nicobar-islands</td>\n",
       "      <td>2018</td>\n",
       "      <td>2</td>\n",
       "      <td>north and middle andaman district</td>\n",
       "      <td>911</td>\n",
       "    </tr>\n",
       "    <tr>\n",
       "      <th>4</th>\n",
       "      <td>andaman-&amp;-nicobar-islands</td>\n",
       "      <td>2018</td>\n",
       "      <td>2</td>\n",
       "      <td>south andaman district</td>\n",
       "      <td>8143</td>\n",
       "    </tr>\n",
       "    <tr>\n",
       "      <th>...</th>\n",
       "      <td>...</td>\n",
       "      <td>...</td>\n",
       "      <td>...</td>\n",
       "      <td>...</td>\n",
       "      <td>...</td>\n",
       "    </tr>\n",
       "    <tr>\n",
       "      <th>16099</th>\n",
       "      <td>west-bengal</td>\n",
       "      <td>2023</td>\n",
       "      <td>2</td>\n",
       "      <td>nadia district</td>\n",
       "      <td>1482400</td>\n",
       "    </tr>\n",
       "    <tr>\n",
       "      <th>16100</th>\n",
       "      <td>west-bengal</td>\n",
       "      <td>2023</td>\n",
       "      <td>2</td>\n",
       "      <td>birbhum district</td>\n",
       "      <td>934943</td>\n",
       "    </tr>\n",
       "    <tr>\n",
       "      <th>16101</th>\n",
       "      <td>west-bengal</td>\n",
       "      <td>2023</td>\n",
       "      <td>2</td>\n",
       "      <td>purba medinipur district</td>\n",
       "      <td>1468608</td>\n",
       "    </tr>\n",
       "    <tr>\n",
       "      <th>16102</th>\n",
       "      <td>west-bengal</td>\n",
       "      <td>2023</td>\n",
       "      <td>2</td>\n",
       "      <td>maldah district</td>\n",
       "      <td>1046132</td>\n",
       "    </tr>\n",
       "    <tr>\n",
       "      <th>16103</th>\n",
       "      <td>west-bengal</td>\n",
       "      <td>2023</td>\n",
       "      <td>2</td>\n",
       "      <td>darjiling district</td>\n",
       "      <td>613398</td>\n",
       "    </tr>\n",
       "  </tbody>\n",
       "</table>\n",
       "<p>16104 rows × 5 columns</p>\n",
       "</div>"
      ],
      "text/plain": [
       "                           State  Year  Quarter  \\\n",
       "0      andaman-&-nicobar-islands  2018        1   \n",
       "1      andaman-&-nicobar-islands  2018        1   \n",
       "2      andaman-&-nicobar-islands  2018        1   \n",
       "3      andaman-&-nicobar-islands  2018        2   \n",
       "4      andaman-&-nicobar-islands  2018        2   \n",
       "...                          ...   ...      ...   \n",
       "16099                west-bengal  2023        2   \n",
       "16100                west-bengal  2023        2   \n",
       "16101                west-bengal  2023        2   \n",
       "16102                west-bengal  2023        2   \n",
       "16103                west-bengal  2023        2   \n",
       "\n",
       "                                District  Registered_User  \n",
       "0      north and middle andaman district              632  \n",
       "1                 south andaman district             5846  \n",
       "2                      nicobars district              262  \n",
       "3      north and middle andaman district              911  \n",
       "4                 south andaman district             8143  \n",
       "...                                  ...              ...  \n",
       "16099                     nadia district          1482400  \n",
       "16100                   birbhum district           934943  \n",
       "16101           purba medinipur district          1468608  \n",
       "16102                    maldah district          1046132  \n",
       "16103                 darjiling district           613398  \n",
       "\n",
       "[16104 rows x 5 columns]"
      ]
     },
     "execution_count": 42,
     "metadata": {},
     "output_type": "execute_result"
    }
   ],
   "source": [
    "df_map_user=pd.DataFrame(map_user)\n",
    "df_map_user"
   ]
  },
  {
   "cell_type": "code",
   "execution_count": 43,
   "id": "70fd17b6",
   "metadata": {},
   "outputs": [
    {
     "data": {
      "text/plain": [
       "(16104, 5)"
      ]
     },
     "execution_count": 43,
     "metadata": {},
     "output_type": "execute_result"
    }
   ],
   "source": [
    "df_map_user.shape"
   ]
  },
  {
   "cell_type": "code",
   "execution_count": 44,
   "id": "232c96e2",
   "metadata": {},
   "outputs": [
    {
     "data": {
      "text/plain": [
       "State              object\n",
       "Year               object\n",
       "Quarter             int64\n",
       "District           object\n",
       "Registered_User     int64\n",
       "dtype: object"
      ]
     },
     "execution_count": 44,
     "metadata": {},
     "output_type": "execute_result"
    }
   ],
   "source": [
    "df_map_user.dtypes"
   ]
  },
  {
   "cell_type": "code",
   "execution_count": 45,
   "id": "598ad2f8",
   "metadata": {},
   "outputs": [
    {
     "data": {
      "text/plain": [
       "0"
      ]
     },
     "execution_count": 45,
     "metadata": {},
     "output_type": "execute_result"
    }
   ],
   "source": [
    "data=df_map_user.duplicated()\n",
    "sum(data)"
   ]
  },
  {
   "cell_type": "code",
   "execution_count": 46,
   "id": "0a9a9f04",
   "metadata": {},
   "outputs": [
    {
     "data": {
      "text/plain": [
       "State              0\n",
       "Year               0\n",
       "Quarter            0\n",
       "District           0\n",
       "Registered_User    0\n",
       "dtype: int64"
      ]
     },
     "execution_count": 46,
     "metadata": {},
     "output_type": "execute_result"
    }
   ],
   "source": [
    "df_map_user.isnull().sum()"
   ]
  },
  {
   "cell_type": "code",
   "execution_count": 47,
   "id": "27b03feb",
   "metadata": {},
   "outputs": [
    {
     "name": "stdout",
     "output_type": "stream",
     "text": [
      "<class 'pandas.core.frame.DataFrame'>\n",
      "RangeIndex: 16104 entries, 0 to 16103\n",
      "Data columns (total 5 columns):\n",
      " #   Column           Non-Null Count  Dtype \n",
      "---  ------           --------------  ----- \n",
      " 0   State            16104 non-null  object\n",
      " 1   Year             16104 non-null  object\n",
      " 2   Quarter          16104 non-null  int64 \n",
      " 3   District         16104 non-null  object\n",
      " 4   Registered_User  16104 non-null  int64 \n",
      "dtypes: int64(2), object(3)\n",
      "memory usage: 629.2+ KB\n"
     ]
    }
   ],
   "source": [
    "df_map_user.info()"
   ]
  },
  {
   "cell_type": "code",
   "execution_count": 48,
   "id": "f193478d",
   "metadata": {},
   "outputs": [
    {
     "data": {
      "text/plain": [
       "State                 36\n",
       "Year                   6\n",
       "Quarter                4\n",
       "District             723\n",
       "Registered_User    15777\n",
       "dtype: int64"
      ]
     },
     "execution_count": 48,
     "metadata": {},
     "output_type": "execute_result"
    }
   ],
   "source": [
    "df_map_user.nunique()"
   ]
  },
  {
   "cell_type": "code",
   "execution_count": 49,
   "id": "313e4394",
   "metadata": {},
   "outputs": [],
   "source": [
    "#--------------DATA----TOP-------TRANSACTION-------------#"
   ]
  },
  {
   "cell_type": "code",
   "execution_count": 50,
   "id": "20ab4646",
   "metadata": {},
   "outputs": [],
   "source": [
    "path_5=\"C:/Phonepe_Pulse_Data/data/top/transaction/country/india/state\""
   ]
  },
  {
   "cell_type": "code",
   "execution_count": 51,
   "id": "787c5d1a",
   "metadata": {},
   "outputs": [],
   "source": [
    "top_trans_state_list = os.listdir(path_5)\n"
   ]
  },
  {
   "cell_type": "code",
   "execution_count": 52,
   "id": "5c98d27f",
   "metadata": {},
   "outputs": [],
   "source": [
    "top_trans = {'State': [], 'Year': [], 'Quarter': [], 'District_Pincode': [], 'Transaction_count': [], 'Transaction_amount': []}"
   ]
  },
  {
   "cell_type": "code",
   "execution_count": 53,
   "id": "fb3ee983",
   "metadata": {},
   "outputs": [],
   "source": [
    "for i in top_trans_state_list:\n",
    "    p_i = path_5 +\"/\"+ i + \"/\"\n",
    "    Agg_yr = os.listdir(p_i)\n",
    "\n",
    "    for j in Agg_yr:\n",
    "        p_j = p_i + j + \"/\"\n",
    "        Agg_yr_list = os.listdir(p_j)\n",
    "\n",
    "        for k in Agg_yr_list:\n",
    "            p_k = p_j + k\n",
    "            Data = open(p_k, 'r')\n",
    "            E = json.load(Data)\n",
    "            \n",
    "            for l in E['data']['pincodes']:\n",
    "                Name = l['entityName']\n",
    "                count = l['metric']['count']\n",
    "                amount = l['metric']['amount']\n",
    "                top_trans['State'].append(i)\n",
    "                top_trans['Year'].append(j)\n",
    "                top_trans['Quarter'].append(int(k.strip('.json')))\n",
    "                top_trans['District_Pincode'].append(Name)\n",
    "                top_trans['Transaction_count'].append(count)\n",
    "                top_trans['Transaction_amount'].append(amount)"
   ]
  },
  {
   "cell_type": "code",
   "execution_count": 54,
   "id": "32474e5e",
   "metadata": {},
   "outputs": [
    {
     "data": {
      "text/html": [
       "<div>\n",
       "<style scoped>\n",
       "    .dataframe tbody tr th:only-of-type {\n",
       "        vertical-align: middle;\n",
       "    }\n",
       "\n",
       "    .dataframe tbody tr th {\n",
       "        vertical-align: top;\n",
       "    }\n",
       "\n",
       "    .dataframe thead th {\n",
       "        text-align: right;\n",
       "    }\n",
       "</style>\n",
       "<table border=\"1\" class=\"dataframe\">\n",
       "  <thead>\n",
       "    <tr style=\"text-align: right;\">\n",
       "      <th></th>\n",
       "      <th>State</th>\n",
       "      <th>Year</th>\n",
       "      <th>Quarter</th>\n",
       "      <th>District_Pincode</th>\n",
       "      <th>Transaction_count</th>\n",
       "      <th>Transaction_amount</th>\n",
       "    </tr>\n",
       "  </thead>\n",
       "  <tbody>\n",
       "    <tr>\n",
       "      <th>0</th>\n",
       "      <td>andaman-&amp;-nicobar-islands</td>\n",
       "      <td>2018</td>\n",
       "      <td>1</td>\n",
       "      <td>744101</td>\n",
       "      <td>1622</td>\n",
       "      <td>2.769298e+06</td>\n",
       "    </tr>\n",
       "    <tr>\n",
       "      <th>1</th>\n",
       "      <td>andaman-&amp;-nicobar-islands</td>\n",
       "      <td>2018</td>\n",
       "      <td>1</td>\n",
       "      <td>744103</td>\n",
       "      <td>1223</td>\n",
       "      <td>2.238042e+06</td>\n",
       "    </tr>\n",
       "    <tr>\n",
       "      <th>2</th>\n",
       "      <td>andaman-&amp;-nicobar-islands</td>\n",
       "      <td>2018</td>\n",
       "      <td>1</td>\n",
       "      <td>744102</td>\n",
       "      <td>969</td>\n",
       "      <td>3.519060e+06</td>\n",
       "    </tr>\n",
       "    <tr>\n",
       "      <th>3</th>\n",
       "      <td>andaman-&amp;-nicobar-islands</td>\n",
       "      <td>2018</td>\n",
       "      <td>1</td>\n",
       "      <td>744105</td>\n",
       "      <td>685</td>\n",
       "      <td>1.298561e+06</td>\n",
       "    </tr>\n",
       "    <tr>\n",
       "      <th>4</th>\n",
       "      <td>andaman-&amp;-nicobar-islands</td>\n",
       "      <td>2018</td>\n",
       "      <td>1</td>\n",
       "      <td>744104</td>\n",
       "      <td>340</td>\n",
       "      <td>1.039715e+06</td>\n",
       "    </tr>\n",
       "    <tr>\n",
       "      <th>...</th>\n",
       "      <td>...</td>\n",
       "      <td>...</td>\n",
       "      <td>...</td>\n",
       "      <td>...</td>\n",
       "      <td>...</td>\n",
       "      <td>...</td>\n",
       "    </tr>\n",
       "    <tr>\n",
       "      <th>7848</th>\n",
       "      <td>west-bengal</td>\n",
       "      <td>2023</td>\n",
       "      <td>2</td>\n",
       "      <td>700001</td>\n",
       "      <td>2918444</td>\n",
       "      <td>6.259877e+09</td>\n",
       "    </tr>\n",
       "    <tr>\n",
       "      <th>7849</th>\n",
       "      <td>west-bengal</td>\n",
       "      <td>2023</td>\n",
       "      <td>2</td>\n",
       "      <td>721301</td>\n",
       "      <td>2910870</td>\n",
       "      <td>4.458107e+09</td>\n",
       "    </tr>\n",
       "    <tr>\n",
       "      <th>7850</th>\n",
       "      <td>west-bengal</td>\n",
       "      <td>2023</td>\n",
       "      <td>2</td>\n",
       "      <td>700039</td>\n",
       "      <td>2886562</td>\n",
       "      <td>4.662887e+09</td>\n",
       "    </tr>\n",
       "    <tr>\n",
       "      <th>7851</th>\n",
       "      <td>west-bengal</td>\n",
       "      <td>2023</td>\n",
       "      <td>2</td>\n",
       "      <td>700015</td>\n",
       "      <td>2774383</td>\n",
       "      <td>4.372975e+09</td>\n",
       "    </tr>\n",
       "    <tr>\n",
       "      <th>7852</th>\n",
       "      <td>west-bengal</td>\n",
       "      <td>2023</td>\n",
       "      <td>2</td>\n",
       "      <td>700014</td>\n",
       "      <td>2757479</td>\n",
       "      <td>5.108638e+09</td>\n",
       "    </tr>\n",
       "  </tbody>\n",
       "</table>\n",
       "<p>7853 rows × 6 columns</p>\n",
       "</div>"
      ],
      "text/plain": [
       "                          State  Year  Quarter District_Pincode  \\\n",
       "0     andaman-&-nicobar-islands  2018        1           744101   \n",
       "1     andaman-&-nicobar-islands  2018        1           744103   \n",
       "2     andaman-&-nicobar-islands  2018        1           744102   \n",
       "3     andaman-&-nicobar-islands  2018        1           744105   \n",
       "4     andaman-&-nicobar-islands  2018        1           744104   \n",
       "...                         ...   ...      ...              ...   \n",
       "7848                west-bengal  2023        2           700001   \n",
       "7849                west-bengal  2023        2           721301   \n",
       "7850                west-bengal  2023        2           700039   \n",
       "7851                west-bengal  2023        2           700015   \n",
       "7852                west-bengal  2023        2           700014   \n",
       "\n",
       "      Transaction_count  Transaction_amount  \n",
       "0                  1622        2.769298e+06  \n",
       "1                  1223        2.238042e+06  \n",
       "2                   969        3.519060e+06  \n",
       "3                   685        1.298561e+06  \n",
       "4                   340        1.039715e+06  \n",
       "...                 ...                 ...  \n",
       "7848            2918444        6.259877e+09  \n",
       "7849            2910870        4.458107e+09  \n",
       "7850            2886562        4.662887e+09  \n",
       "7851            2774383        4.372975e+09  \n",
       "7852            2757479        5.108638e+09  \n",
       "\n",
       "[7853 rows x 6 columns]"
      ]
     },
     "execution_count": 54,
     "metadata": {},
     "output_type": "execute_result"
    }
   ],
   "source": [
    "df_top_trans=pd.DataFrame(top_trans)\n",
    "df_top_trans"
   ]
  },
  {
   "cell_type": "code",
   "execution_count": 55,
   "id": "91737137",
   "metadata": {},
   "outputs": [
    {
     "data": {
      "text/plain": [
       "(7853, 6)"
      ]
     },
     "execution_count": 55,
     "metadata": {},
     "output_type": "execute_result"
    }
   ],
   "source": [
    "df_top_trans.shape"
   ]
  },
  {
   "cell_type": "code",
   "execution_count": 56,
   "id": "2d1f6043",
   "metadata": {},
   "outputs": [
    {
     "data": {
      "text/plain": [
       "State                  object\n",
       "Year                   object\n",
       "Quarter                 int64\n",
       "District_Pincode       object\n",
       "Transaction_count       int64\n",
       "Transaction_amount    float64\n",
       "dtype: object"
      ]
     },
     "execution_count": 56,
     "metadata": {},
     "output_type": "execute_result"
    }
   ],
   "source": [
    "df_top_trans.dtypes"
   ]
  },
  {
   "cell_type": "code",
   "execution_count": 57,
   "id": "21082ff4",
   "metadata": {},
   "outputs": [
    {
     "data": {
      "text/plain": [
       "0"
      ]
     },
     "execution_count": 57,
     "metadata": {},
     "output_type": "execute_result"
    }
   ],
   "source": [
    "data=df_top_trans.duplicated()\n",
    "sum(data)"
   ]
  },
  {
   "cell_type": "code",
   "execution_count": 58,
   "id": "23a0c03b",
   "metadata": {},
   "outputs": [
    {
     "data": {
      "text/plain": [
       "State                 0\n",
       "Year                  0\n",
       "Quarter               0\n",
       "District_Pincode      2\n",
       "Transaction_count     0\n",
       "Transaction_amount    0\n",
       "dtype: int64"
      ]
     },
     "execution_count": 58,
     "metadata": {},
     "output_type": "execute_result"
    }
   ],
   "source": [
    "df_top_trans.isnull().sum()"
   ]
  },
  {
   "cell_type": "code",
   "execution_count": 59,
   "id": "0c37da42",
   "metadata": {},
   "outputs": [],
   "source": [
    "df_top_trans.dropna(inplace=True)"
   ]
  },
  {
   "cell_type": "code",
   "execution_count": 60,
   "id": "c4d41570",
   "metadata": {},
   "outputs": [
    {
     "name": "stdout",
     "output_type": "stream",
     "text": [
      "<class 'pandas.core.frame.DataFrame'>\n",
      "Int64Index: 7851 entries, 0 to 7852\n",
      "Data columns (total 6 columns):\n",
      " #   Column              Non-Null Count  Dtype  \n",
      "---  ------              --------------  -----  \n",
      " 0   State               7851 non-null   object \n",
      " 1   Year                7851 non-null   object \n",
      " 2   Quarter             7851 non-null   int64  \n",
      " 3   District_Pincode    7851 non-null   object \n",
      " 4   Transaction_count   7851 non-null   int64  \n",
      " 5   Transaction_amount  7851 non-null   float64\n",
      "dtypes: float64(1), int64(2), object(3)\n",
      "memory usage: 429.4+ KB\n"
     ]
    }
   ],
   "source": [
    "df_top_trans.info()"
   ]
  },
  {
   "cell_type": "code",
   "execution_count": 61,
   "id": "2c0cc6f9",
   "metadata": {},
   "outputs": [
    {
     "data": {
      "text/plain": [
       "State                   36\n",
       "Year                     6\n",
       "Quarter                  4\n",
       "District_Pincode       768\n",
       "Transaction_count     7793\n",
       "Transaction_amount    7851\n",
       "dtype: int64"
      ]
     },
     "execution_count": 61,
     "metadata": {},
     "output_type": "execute_result"
    }
   ],
   "source": [
    "df_top_trans.nunique()"
   ]
  },
  {
   "cell_type": "code",
   "execution_count": 62,
   "id": "57559da1",
   "metadata": {},
   "outputs": [],
   "source": [
    "#--------------DATA----TOP-------USER-------------#"
   ]
  },
  {
   "cell_type": "code",
   "execution_count": 63,
   "id": "6ee50d54",
   "metadata": {},
   "outputs": [],
   "source": [
    "path_6=\"C:/Phonepe_Pulse_Data/data/top/user/country/india/state\""
   ]
  },
  {
   "cell_type": "code",
   "execution_count": 64,
   "id": "aa908e27",
   "metadata": {},
   "outputs": [],
   "source": [
    "top_user_state_list = os.listdir(path_6)\n"
   ]
  },
  {
   "cell_type": "code",
   "execution_count": 65,
   "id": "6c8ae25b",
   "metadata": {},
   "outputs": [],
   "source": [
    "top_user = {'State': [], 'Year': [], 'Quarter': [], 'District_Pincode': [], 'Registered_User': []}\n"
   ]
  },
  {
   "cell_type": "code",
   "execution_count": 66,
   "id": "26203fde",
   "metadata": {},
   "outputs": [],
   "source": [
    "for i in top_user_state_list:\n",
    "    p_i = path_6 +\"/\"+ i + \"/\"\n",
    "    Agg_yr = os.listdir(p_i)\n",
    "\n",
    "    for j in Agg_yr:\n",
    "        p_j = p_i + j + \"/\"\n",
    "        Agg_yr_list = os.listdir(p_j)\n",
    "\n",
    "        for k in Agg_yr_list:\n",
    "            p_k = p_j + k\n",
    "            Data = open(p_k, 'r')\n",
    "            F = json.load(Data)\n",
    "            \n",
    "            for l in F['data']['pincodes']:\n",
    "                Name = l['name']\n",
    "                registeredUser = l['registeredUsers']\n",
    "                top_user['State'].append(i)\n",
    "                top_user['Year'].append(j)\n",
    "                top_user['Quarter'].append(int(k.strip('.json')))\n",
    "                top_user['District_Pincode'].append(Name)\n",
    "                top_user['Registered_User'].append(registeredUser)"
   ]
  },
  {
   "cell_type": "code",
   "execution_count": 67,
   "id": "d16ff80e",
   "metadata": {},
   "outputs": [
    {
     "data": {
      "text/html": [
       "<div>\n",
       "<style scoped>\n",
       "    .dataframe tbody tr th:only-of-type {\n",
       "        vertical-align: middle;\n",
       "    }\n",
       "\n",
       "    .dataframe tbody tr th {\n",
       "        vertical-align: top;\n",
       "    }\n",
       "\n",
       "    .dataframe thead th {\n",
       "        text-align: right;\n",
       "    }\n",
       "</style>\n",
       "<table border=\"1\" class=\"dataframe\">\n",
       "  <thead>\n",
       "    <tr style=\"text-align: right;\">\n",
       "      <th></th>\n",
       "      <th>State</th>\n",
       "      <th>Year</th>\n",
       "      <th>Quarter</th>\n",
       "      <th>District_Pincode</th>\n",
       "      <th>Registered_User</th>\n",
       "    </tr>\n",
       "  </thead>\n",
       "  <tbody>\n",
       "    <tr>\n",
       "      <th>0</th>\n",
       "      <td>andaman-&amp;-nicobar-islands</td>\n",
       "      <td>2018</td>\n",
       "      <td>1</td>\n",
       "      <td>744103</td>\n",
       "      <td>1608</td>\n",
       "    </tr>\n",
       "    <tr>\n",
       "      <th>1</th>\n",
       "      <td>andaman-&amp;-nicobar-islands</td>\n",
       "      <td>2018</td>\n",
       "      <td>1</td>\n",
       "      <td>744101</td>\n",
       "      <td>1108</td>\n",
       "    </tr>\n",
       "    <tr>\n",
       "      <th>2</th>\n",
       "      <td>andaman-&amp;-nicobar-islands</td>\n",
       "      <td>2018</td>\n",
       "      <td>1</td>\n",
       "      <td>744105</td>\n",
       "      <td>1075</td>\n",
       "    </tr>\n",
       "    <tr>\n",
       "      <th>3</th>\n",
       "      <td>andaman-&amp;-nicobar-islands</td>\n",
       "      <td>2018</td>\n",
       "      <td>1</td>\n",
       "      <td>744102</td>\n",
       "      <td>1006</td>\n",
       "    </tr>\n",
       "    <tr>\n",
       "      <th>4</th>\n",
       "      <td>andaman-&amp;-nicobar-islands</td>\n",
       "      <td>2018</td>\n",
       "      <td>1</td>\n",
       "      <td>744104</td>\n",
       "      <td>272</td>\n",
       "    </tr>\n",
       "    <tr>\n",
       "      <th>...</th>\n",
       "      <td>...</td>\n",
       "      <td>...</td>\n",
       "      <td>...</td>\n",
       "      <td>...</td>\n",
       "      <td>...</td>\n",
       "    </tr>\n",
       "    <tr>\n",
       "      <th>7849</th>\n",
       "      <td>west-bengal</td>\n",
       "      <td>2023</td>\n",
       "      <td>2</td>\n",
       "      <td>700015</td>\n",
       "      <td>117690</td>\n",
       "    </tr>\n",
       "    <tr>\n",
       "      <th>7850</th>\n",
       "      <td>west-bengal</td>\n",
       "      <td>2023</td>\n",
       "      <td>2</td>\n",
       "      <td>742304</td>\n",
       "      <td>114746</td>\n",
       "    </tr>\n",
       "    <tr>\n",
       "      <th>7851</th>\n",
       "      <td>west-bengal</td>\n",
       "      <td>2023</td>\n",
       "      <td>2</td>\n",
       "      <td>721101</td>\n",
       "      <td>114293</td>\n",
       "    </tr>\n",
       "    <tr>\n",
       "      <th>7852</th>\n",
       "      <td>west-bengal</td>\n",
       "      <td>2023</td>\n",
       "      <td>2</td>\n",
       "      <td>700150</td>\n",
       "      <td>110694</td>\n",
       "    </tr>\n",
       "    <tr>\n",
       "      <th>7853</th>\n",
       "      <td>west-bengal</td>\n",
       "      <td>2023</td>\n",
       "      <td>2</td>\n",
       "      <td>700091</td>\n",
       "      <td>110637</td>\n",
       "    </tr>\n",
       "  </tbody>\n",
       "</table>\n",
       "<p>7854 rows × 5 columns</p>\n",
       "</div>"
      ],
      "text/plain": [
       "                          State  Year  Quarter District_Pincode  \\\n",
       "0     andaman-&-nicobar-islands  2018        1           744103   \n",
       "1     andaman-&-nicobar-islands  2018        1           744101   \n",
       "2     andaman-&-nicobar-islands  2018        1           744105   \n",
       "3     andaman-&-nicobar-islands  2018        1           744102   \n",
       "4     andaman-&-nicobar-islands  2018        1           744104   \n",
       "...                         ...   ...      ...              ...   \n",
       "7849                west-bengal  2023        2           700015   \n",
       "7850                west-bengal  2023        2           742304   \n",
       "7851                west-bengal  2023        2           721101   \n",
       "7852                west-bengal  2023        2           700150   \n",
       "7853                west-bengal  2023        2           700091   \n",
       "\n",
       "      Registered_User  \n",
       "0                1608  \n",
       "1                1108  \n",
       "2                1075  \n",
       "3                1006  \n",
       "4                 272  \n",
       "...               ...  \n",
       "7849           117690  \n",
       "7850           114746  \n",
       "7851           114293  \n",
       "7852           110694  \n",
       "7853           110637  \n",
       "\n",
       "[7854 rows x 5 columns]"
      ]
     },
     "execution_count": 67,
     "metadata": {},
     "output_type": "execute_result"
    }
   ],
   "source": [
    "df_top_user=pd.DataFrame(top_user)\n",
    "df_top_user"
   ]
  },
  {
   "cell_type": "code",
   "execution_count": 68,
   "id": "1b87ab41",
   "metadata": {},
   "outputs": [
    {
     "data": {
      "text/plain": [
       "(7854, 5)"
      ]
     },
     "execution_count": 68,
     "metadata": {},
     "output_type": "execute_result"
    }
   ],
   "source": [
    "df_top_user.shape"
   ]
  },
  {
   "cell_type": "code",
   "execution_count": 69,
   "id": "db19c5f6",
   "metadata": {},
   "outputs": [
    {
     "data": {
      "text/plain": [
       "State               object\n",
       "Year                object\n",
       "Quarter              int64\n",
       "District_Pincode    object\n",
       "Registered_User      int64\n",
       "dtype: object"
      ]
     },
     "execution_count": 69,
     "metadata": {},
     "output_type": "execute_result"
    }
   ],
   "source": [
    "df_top_user.dtypes"
   ]
  },
  {
   "cell_type": "code",
   "execution_count": 70,
   "id": "e24493ef",
   "metadata": {},
   "outputs": [
    {
     "data": {
      "text/plain": [
       "0"
      ]
     },
     "execution_count": 70,
     "metadata": {},
     "output_type": "execute_result"
    }
   ],
   "source": [
    "d=df_top_user.duplicated()\n",
    "sum(d)"
   ]
  },
  {
   "cell_type": "code",
   "execution_count": 71,
   "id": "bfa464e3",
   "metadata": {},
   "outputs": [
    {
     "data": {
      "text/plain": [
       "State               0\n",
       "Year                0\n",
       "Quarter             0\n",
       "District_Pincode    0\n",
       "Registered_User     0\n",
       "dtype: int64"
      ]
     },
     "execution_count": 71,
     "metadata": {},
     "output_type": "execute_result"
    }
   ],
   "source": [
    "df_top_user.isnull().sum()"
   ]
  },
  {
   "cell_type": "code",
   "execution_count": 72,
   "id": "862fef89",
   "metadata": {},
   "outputs": [
    {
     "name": "stdout",
     "output_type": "stream",
     "text": [
      "<class 'pandas.core.frame.DataFrame'>\n",
      "RangeIndex: 7854 entries, 0 to 7853\n",
      "Data columns (total 5 columns):\n",
      " #   Column            Non-Null Count  Dtype \n",
      "---  ------            --------------  ----- \n",
      " 0   State             7854 non-null   object\n",
      " 1   Year              7854 non-null   object\n",
      " 2   Quarter           7854 non-null   int64 \n",
      " 3   District_Pincode  7854 non-null   object\n",
      " 4   Registered_User   7854 non-null   int64 \n",
      "dtypes: int64(2), object(3)\n",
      "memory usage: 306.9+ KB\n"
     ]
    }
   ],
   "source": [
    "df_top_user.info()"
   ]
  },
  {
   "cell_type": "code",
   "execution_count": 73,
   "id": "147c4b61",
   "metadata": {},
   "outputs": [
    {
     "data": {
      "text/plain": [
       "State                 36\n",
       "Year                   6\n",
       "Quarter                4\n",
       "District_Pincode     428\n",
       "Registered_User     7559\n",
       "dtype: int64"
      ]
     },
     "execution_count": 73,
     "metadata": {},
     "output_type": "execute_result"
    }
   ],
   "source": [
    "df_top_user.nunique()"
   ]
  },
  {
   "cell_type": "code",
   "execution_count": null,
   "id": "5b01913b",
   "metadata": {},
   "outputs": [],
   "source": [
    "#  --------    CONNECT SQL SERVER  /   CREAT DATA BASE    /  CREAT TABLE    /    STORE DATA -------- #\n"
   ]
  },
  {
   "cell_type": "code",
   "execution_count": 74,
   "id": "b878f0c2",
   "metadata": {},
   "outputs": [],
   "source": [
    "myconnection=pymysql.connect(host='127.0.0.1',user='root',passwd='atx1c1d1')"
   ]
  },
  {
   "cell_type": "code",
   "execution_count": 75,
   "id": "813e1c75",
   "metadata": {},
   "outputs": [],
   "source": [
    "cur=myconnection.cursor()"
   ]
  },
  {
   "cell_type": "code",
   "execution_count": 76,
   "id": "28084d9b",
   "metadata": {},
   "outputs": [
    {
     "data": {
      "text/plain": [
       "1"
      ]
     },
     "execution_count": 76,
     "metadata": {},
     "output_type": "execute_result"
    }
   ],
   "source": [
    "cur.execute(\"create database if not exists phonepe_pulse\")"
   ]
  },
  {
   "cell_type": "code",
   "execution_count": 77,
   "id": "92a70161",
   "metadata": {},
   "outputs": [],
   "source": [
    "myconnection=pymysql.connect(host='127.0.0.1',user='root',passwd='atx1c1d1',database='phonepe_pulse')"
   ]
  },
  {
   "cell_type": "code",
   "execution_count": 78,
   "id": "1172478b",
   "metadata": {},
   "outputs": [],
   "source": [
    "cur=myconnection.cursor()"
   ]
  },
  {
   "cell_type": "code",
   "execution_count": 79,
   "id": "11ec83df",
   "metadata": {},
   "outputs": [
    {
     "data": {
      "text/plain": [
       "0"
      ]
     },
     "execution_count": 79,
     "metadata": {},
     "output_type": "execute_result"
    }
   ],
   "source": [
    "cur.execute(\"create table if not exists aggregated_transaction(State varchar(100),Year int,Quarter int,Transaction_type varchar(100),Transaction_count int,Transaction_amount float)\")"
   ]
  },
  {
   "cell_type": "code",
   "execution_count": 80,
   "id": "b9b51122",
   "metadata": {},
   "outputs": [],
   "source": [
    "sql = \"insert into aggregated_transaction(State,Year,Quarter,Transaction_type,Transaction_count,Transaction_amount) values (%s,%s,%s,%s,%s,%s)\"\n",
    "for i in range(0,len(df_Agg_trans)):\n",
    "        cur.execute(sql,tuple(df_Agg_trans.iloc[i]))\n",
    "        myconnection.commit() \n"
   ]
  },
  {
   "cell_type": "code",
   "execution_count": 81,
   "id": "338079e2",
   "metadata": {},
   "outputs": [
    {
     "data": {
      "text/plain": [
       "0"
      ]
     },
     "execution_count": 81,
     "metadata": {},
     "output_type": "execute_result"
    }
   ],
   "source": [
    "cur.execute(\"create table if not exists aggregated_user(State varchar(100),Year int,Quarter int,Brands varchar(100),User_Count int,User_Percentage float)\")\n",
    "                       "
   ]
  },
  {
   "cell_type": "code",
   "execution_count": 82,
   "id": "ba6a01d9",
   "metadata": {},
   "outputs": [],
   "source": [
    "sql = \"insert into aggregated_user(State,Year,Quarter,Brands,User_count,User_Percentage) values (%s,%s,%s,%s,%s,%s)\"\n",
    "for i in range(0,len(df_Agg_user)):\n",
    "        cur.execute(sql,tuple(df_Agg_user.iloc[i]))\n",
    "        myconnection.commit() \n"
   ]
  },
  {
   "cell_type": "code",
   "execution_count": 83,
   "id": "fb643f2f",
   "metadata": {},
   "outputs": [
    {
     "data": {
      "text/plain": [
       "0"
      ]
     },
     "execution_count": 83,
     "metadata": {},
     "output_type": "execute_result"
    }
   ],
   "source": [
    "cur.execute(\"create table if not exists map_transaction(State varchar(100),Year int,Quarter int,District varchar(100),Transaction_Count int,Transaction_Amount float)\")\n"
   ]
  },
  {
   "cell_type": "code",
   "execution_count": 84,
   "id": "0dc99cff",
   "metadata": {},
   "outputs": [],
   "source": [
    "sql = \"insert into map_transaction(State,Year,Quarter,District,Transaction_Count,Transaction_Amount) values (%s,%s,%s,%s,%s,%s)\"\n",
    "for i in range(0,len(df_map_trans)):\n",
    "        cur.execute(sql,tuple(df_map_trans.iloc[i]))\n",
    "        myconnection.commit() \n"
   ]
  },
  {
   "cell_type": "code",
   "execution_count": 85,
   "id": "f9ff302d",
   "metadata": {},
   "outputs": [
    {
     "data": {
      "text/plain": [
       "0"
      ]
     },
     "execution_count": 85,
     "metadata": {},
     "output_type": "execute_result"
    }
   ],
   "source": [
    "cur.execute(\"create table if not exists map_user(State varchar(100),Year int,Quarter int,District varchar(100),Registered_User int)\")\n",
    "                "
   ]
  },
  {
   "cell_type": "code",
   "execution_count": 86,
   "id": "0b023782",
   "metadata": {},
   "outputs": [],
   "source": [
    "sql = \"insert into map_user(State,Year,Quarter,District,Registered_User) values (%s,%s,%s,%s,%s)\"\n",
    "for i in range(0,len(df_map_user)):\n",
    "        cur.execute(sql,tuple(df_map_user.iloc[i]))\n",
    "        myconnection.commit() \n"
   ]
  },
  {
   "cell_type": "code",
   "execution_count": 87,
   "id": "9e5ee255",
   "metadata": {},
   "outputs": [
    {
     "data": {
      "text/plain": [
       "0"
      ]
     },
     "execution_count": 87,
     "metadata": {},
     "output_type": "execute_result"
    }
   ],
   "source": [
    "cur.execute(\"create table if not exists top_transaction(State varchar(100),Year int,Quarter int,District_Pincode int,Transaction_count int,Transaction_amount float)\")\n"
   ]
  },
  {
   "cell_type": "code",
   "execution_count": 88,
   "id": "56860da8",
   "metadata": {},
   "outputs": [],
   "source": [
    "sql = \"insert into top_transaction(State,Year,Quarter,District_Pincode,Transaction_count,Transaction_amount) values (%s,%s,%s,%s,%s,%s)\"\n",
    "for i in range(0,len(df_top_trans)):\n",
    "        cur.execute(sql,tuple(df_top_trans.iloc[i]))\n",
    "        myconnection.commit() \n"
   ]
  },
  {
   "cell_type": "code",
   "execution_count": 89,
   "id": "f996a970",
   "metadata": {},
   "outputs": [
    {
     "data": {
      "text/plain": [
       "0"
      ]
     },
     "execution_count": 89,
     "metadata": {},
     "output_type": "execute_result"
    }
   ],
   "source": [
    "cur.execute(\"create table if not exists top_user(State varchar(100),Year int,Quarter int,District_Pincode int,Registered_User int)\")"
   ]
  },
  {
   "cell_type": "code",
   "execution_count": 90,
   "id": "8c1bac9a",
   "metadata": {},
   "outputs": [],
   "source": [
    "sql = \"insert into top_user(State,Year,Quarter,District_Pincode,Registered_User) values (%s,%s,%s,%s,%s)\"\n",
    "for i in range(0,len(df_top_user)):\n",
    "        cur.execute(sql,tuple(df_top_user.iloc[i]))\n",
    "        myconnection.commit() "
   ]
  },
  {
   "cell_type": "code",
   "execution_count": null,
   "id": "cfe0c6b5",
   "metadata": {},
   "outputs": [],
   "source": []
  }
 ],
 "metadata": {
  "kernelspec": {
   "display_name": "Python 3 (ipykernel)",
   "language": "python",
   "name": "python3"
  },
  "language_info": {
   "codemirror_mode": {
    "name": "ipython",
    "version": 3
   },
   "file_extension": ".py",
   "mimetype": "text/x-python",
   "name": "python",
   "nbconvert_exporter": "python",
   "pygments_lexer": "ipython3",
   "version": "3.11.4"
  }
 },
 "nbformat": 4,
 "nbformat_minor": 5
}
